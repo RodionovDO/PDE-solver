{
 "cells": [
  {
   "cell_type": "code",
   "execution_count": 1,
   "id": "1f398cd2",
   "metadata": {},
   "outputs": [],
   "source": [
    "##Уравнение Пуассона в прямоугольнике\n",
    "##0) Ряд Фурье для решения по собственным функциям"
   ]
  },
  {
   "cell_type": "code",
   "execution_count": 150,
   "id": "a54ffa18",
   "metadata": {},
   "outputs": [],
   "source": [
    "import numpy as np\n",
    "import matplotlib.pyplot as plt\n",
    "import pandas as pd\n",
    "\n",
    "a1=0\n",
    "b1=1\n",
    "a2=0\n",
    "b2=1\n",
    "\n",
    "l1=b1-a1\n",
    "l2=b2-a2\n",
    "\n",
    "N1=20\n",
    "N2=20\n",
    "\n",
    "n_points=N1\n",
    "mesh_x=np.linspace(0, 1, N1)\n",
    "mesh_y=np.linspace(0, 1, N2)\n",
    "\n",
    "h1=l1/N1\n",
    "h2=l2/N2\n",
    "\n",
    "def f(x, y):\n",
    "    return np.sin(x*y)\n",
    "\n",
    "def forward_coefs(u=1):\n",
    "    m=np.zeros((N1, N2))\n",
    "    coefs=np.zeros((N1, N2))\n",
    "    \n",
    "    for k2 in range(1, N2):\n",
    "        for i in range(1, N1):\n",
    "            val=0\n",
    "            for j in range(1, N2):\n",
    "                val+=f(i*h1, j*h2)*np.sin(k2*j*np.pi/N2)\n",
    "            m[k2, i]=val\n",
    "    \n",
    "    \n",
    "    \n",
    "    for k1 in range(1, N1):\n",
    "        for k2 in range(1, N2):\n",
    "            val=0\n",
    "            for i in range(1, N1):\n",
    "                val+=m[k2, i]*np.sin(k1*i*np.pi/N1)\n",
    "            coefs[k1, k2]=val\n",
    "        \n",
    "    \n",
    "    return coefs\n",
    "\n",
    "\n",
    "def backward_coefs(u=1):\n",
    "    m=forward_coefs(u=1)\n",
    "    b=np.zeros((N1, N2))\n",
    "    values=np.zeros((N1, N2))\n",
    "    \n",
    "    \n",
    "    \n",
    "    for k2 in range(1, N2):\n",
    "        for i in range(1, N1):\n",
    "            val=0\n",
    "            for k1 in range(1, N1):\n",
    "                s1=(np.sin(k1*h1*np.pi/(2*l1)))**2\n",
    "                s2=(np.sin(k2*h2*np.pi/(2*l2)))**2\n",
    "                s=np.sin(k1*np.pi*i/N1)\n",
    "                c1=4/h1**2\n",
    "                c2=4/h2**2\n",
    "                val+=m[k1, k2]*s/(c1*s1+c2*s2)\n",
    "            b[k2, i]=val\n",
    "    \n",
    "    \n",
    "    \n",
    "    for i in range(1, N1):\n",
    "        for j in range(1, N2):\n",
    "            val=0\n",
    "            for k2 in range(1, N2):\n",
    "                val+=b[k2, i]*np.sin(k2*j*np.pi/N2)\n",
    "            val=val*4/(N1*N2)\n",
    "            values[i, j]=val\n",
    "        \n",
    "    \n",
    "    return values\n"
   ]
  },
  {
   "cell_type": "code",
   "execution_count": 2,
   "id": "7850120a",
   "metadata": {},
   "outputs": [],
   "source": [
    "##Объявлем коэффициенты оператора левой части"
   ]
  },
  {
   "cell_type": "code",
   "execution_count": 127,
   "id": "e451b362",
   "metadata": {},
   "outputs": [],
   "source": [
    "def k11(x,y):\n",
    "    return 1"
   ]
  },
  {
   "cell_type": "code",
   "execution_count": 151,
   "id": "c1c7c22a",
   "metadata": {},
   "outputs": [],
   "source": [
    "def k22(x, y):\n",
    "    return 1+y**2"
   ]
  },
  {
   "cell_type": "code",
   "execution_count": 152,
   "id": "3f48e2d0",
   "metadata": {},
   "outputs": [],
   "source": [
    "def K11(x,y):\n",
    "    return 1\n",
    "def K22(x,y):\n",
    "    return 1+y**2"
   ]
  },
  {
   "cell_type": "code",
   "execution_count": 155,
   "id": "ac5aa7e6",
   "metadata": {},
   "outputs": [],
   "source": [
    "\n",
    "def build_mesh(u=1):\n",
    "    x = np.linspace(a1, b1, N1)\n",
    "    y = np.linspace(a2, b2, N2)\n",
    "    mesh=[]\n",
    "    for t in x:\n",
    "        for p in y:\n",
    "            mesh.append([t, p])\n",
    "        \n",
    "    return np.array(mesh)"
   ]
  },
  {
   "cell_type": "code",
   "execution_count": 3,
   "id": "ecefe330",
   "metadata": {},
   "outputs": [],
   "source": [
    "##Правая часть"
   ]
  },
  {
   "cell_type": "code",
   "execution_count": 156,
   "id": "c5de3b95",
   "metadata": {},
   "outputs": [],
   "source": [
    "def F(u=1):\n",
    "    mesh=build_mesh(u=1)\n",
    "\n",
    "    def f_r(x):\n",
    "        return 2*(x[0]-1)*(x[0])*(3*x[1]**2-x[1]+1)+x[1]*(x[1]-1)\n",
    "    \n",
    "    F=[]\n",
    "    \n",
    "    for x in mesh:\n",
    "        if x[0]==a1 or x[0]==b1 or x[1]==a2 or x[1]==b2:\n",
    "            F.append(f_r(x))\n",
    "        \n",
    "        else:\n",
    "            F.append(f_r(x))\n",
    "            \n",
    "    return np.array(F)"
   ]
  },
  {
   "cell_type": "code",
   "execution_count": 4,
   "id": "fce4ff57",
   "metadata": {},
   "outputs": [],
   "source": [
    "##Аналитическое решение\n",
    "\n",
    "def U(u=1):\n",
    "    mesh=build_mesh(u=1)\n",
    "    \n",
    "    \n",
    "    def solution(x):\n",
    "        return x[0]*(x[0]-1)*x[1]*(x[1]-1)\n",
    "    \n",
    "    \n",
    "    U=[]\n",
    "    \n",
    "    for x in mesh:\n",
    "        if x[0]==a1 or x[0]==b1 or x[1]==a2 or x[1]==b2:\n",
    "            U.append(solution(x))\n",
    "        \n",
    "        else:\n",
    "            U.append(solution(x))\n",
    "        \n",
    "    return np.array(U)"
   ]
  },
  {
   "cell_type": "code",
   "execution_count": 5,
   "id": "43f24fd9",
   "metadata": {},
   "outputs": [],
   "source": [
    "#Матрица преобуславлевателя "
   ]
  },
  {
   "cell_type": "code",
   "execution_count": 158,
   "id": "38150fa9",
   "metadata": {},
   "outputs": [],
   "source": [
    "def matrix_B(n_points, mesh_x, mesh_y):\n",
    "    matrix_n = n_points**2\n",
    "    h = abs(mesh_x[1] - mesh_x[0])\n",
    "    h=1/N1\n",
    "    \n",
    "    diag_1 = np.diag(np.array([4]*matrix_n), 0)\n",
    "    diag_2 = np.diag(np.array([-1]*(matrix_n - 1)), 1)\n",
    "    diag_3 = np.diag(np.array([-1]*(matrix_n - 1)), -1)\n",
    "    diag_4 = np.diag(np.array([-1]*(matrix_n - n_points)), n_points)\n",
    "    diag_5 = np.diag(np.array([-1]*(matrix_n - n_points)), -n_points)\n",
    "    \n",
    "    i = n_points\n",
    "    while (i < matrix_n - 1):\n",
    "        diag_2[i-1] = 0\n",
    "        diag_3[i] = 0\n",
    "        i += n_points\n",
    "    \n",
    "    return (diag_1 + diag_2 + diag_3 + diag_4 + diag_5) / pow(h,2)"
   ]
  },
  {
   "cell_type": "code",
   "execution_count": 6,
   "id": "de71ae97",
   "metadata": {},
   "outputs": [],
   "source": [
    "##Матрицы разностных операторов\n",
    "def Lambda_yy(n_points, mesh_x, mesh_y):\n",
    "    matrix_n = n_points**2\n",
    "    hx = mesh_x[1] - mesh_x[0]\n",
    "    hx=h1\n",
    "    \n",
    "    Lyy = np.zeros((matrix_n, matrix_n))\n",
    "    \n",
    "    for i in range(matrix_n):\n",
    "        Lyy[i][i] = (2*K22(mesh_x[i%n_points], mesh_y[i//n_points]) + \n",
    "                     K22(mesh_x[i%n_points] + hx, mesh_y[i//n_points]) + \n",
    "                     K22(mesh_x[i%n_points] - hx, mesh_y[i//n_points])) / 2\n",
    "        \n",
    "    for i in  range(1, matrix_n):\n",
    "        Lyy[i][i-1] = (K22(mesh_x[i%n_points], mesh_y[i//n_points]) + K22(mesh_x[i%n_points] + hx, mesh_y[i//n_points])) / 2\n",
    "        \n",
    "    for i in range(1, matrix_n):\n",
    "        Lyy[i-1][i] = (K22(mesh_x[i%n_points], mesh_y[i//n_points]) + K22(mesh_x[i%n_points] - hx, mesh_y[i//n_points])) / 2\n",
    "        \n",
    "    return Lxx / hx**2\n",
    "\n",
    "def Lambda_yy_2(n_points, mesh_x, mesh_y):\n",
    "    matrix_n = n_points**2\n",
    "    h = abs(mesh_x[1] - mesh_x[0])\n",
    "    h=h1\n",
    "    \n",
    "    K_values_main = np.zeros(matrix_n)\n",
    "    for row in range(n_points):\n",
    "        for col in range(n_points):\n",
    "            i = row * n_points + col\n",
    "            K_values_main[i] = -(2 * K22(mesh_x[col], mesh_y[row]) +\n",
    "                                K22(mesh_x[col] + h, mesh_y[row]) +\n",
    "                                K22(mesh_x[col] - h, mesh_y[row])) / 2\n",
    "    \n",
    "    K_values_down = np.zeros(matrix_n - 1)\n",
    "    for ind in range(1, matrix_n):\n",
    "        row = ind // n_points\n",
    "        col = ind % n_points\n",
    "        K_values_down[ind-1] = (K22(mesh_x[col], mesh_y[row]) + \n",
    "                         K22(mesh_x[col] - h, mesh_y[row])) / 2\n",
    "        \n",
    "    K_values_up = np.zeros(matrix_n - 1)\n",
    "    for ind in range(matrix_n - 1):\n",
    "        row = ind // n_points\n",
    "        col = ind % n_points\n",
    "        K_values_up[ind] = (K22(mesh_x[col], mesh_y[row]) + \n",
    "                       K22(mesh_x[col] + h, mesh_y[row])) / 2\n",
    "        \n",
    "    main_diag = np.diag(K_values_main)\n",
    "    up_diag = np.diag(K_values_up, 1)\n",
    "    down_diag = np.diag(K_values_down, -1)\n",
    "    \n",
    "    i = n_points\n",
    "    while (i < matrix_n - 1):\n",
    "        up_diag[i-1] = 0\n",
    "        down_diag[i] = 0\n",
    "        i += n_points\n",
    "    \n",
    "    return (main_diag + up_diag + down_diag) / h1**2\n",
    "    \n",
    "\n",
    "def Lambda_xx(n_points, mesh_x, mesh_y):\n",
    "    matrix_n = n_points**2\n",
    "    h = mesh_x[1] - mesh_x[0]\n",
    "    h=h1\n",
    "    \n",
    "    diag_1 = np.diag(np.array([-2]*matrix_n), 0)\n",
    "    diag_2 = np.diag(np.array([1]*(matrix_n - n_points)), n_points)\n",
    "    diag_3 = np.diag(np.array([1]*(matrix_n - n_points)), -n_points)\n",
    "        \n",
    "    return (diag_1 + diag_2 + diag_3) / h**2\n",
    "\n",
    "def matrix_A(n_points, mesh_x, mesh_y):\n",
    "    h = abs(mesh_x[1] - mesh_x[0])\n",
    "    \n",
    "    Lxx = Lambda_xx(n_points, mesh_x, mesh_y)\n",
    "    Lyy = Lambda_yy_2(n_points, mesh_x, mesh_y)\n",
    "    \n",
    "    return (- Lxx - Lyy)"
   ]
  },
  {
   "cell_type": "code",
   "execution_count": 7,
   "id": "bc3aea97",
   "metadata": {},
   "outputs": [],
   "source": [
    "##Скалярное произведение сеточных функций"
   ]
  },
  {
   "cell_type": "code",
   "execution_count": 160,
   "id": "17316298",
   "metadata": {},
   "outputs": [],
   "source": [
    "def dot_prod(v1, v2):\n",
    "    product=0\n",
    "    for i in range(1, N2):\n",
    "        for j in range(1, N1):\n",
    "            product+=v1[i,j]*v2[i, j]*h1*h2\n",
    "    return product"
   ]
  },
  {
   "cell_type": "code",
   "execution_count": 10,
   "id": "826bf351",
   "metadata": {},
   "outputs": [],
   "source": [
    "##Итерационный метод с адаптивной скоростью"
   ]
  },
  {
   "cell_type": "code",
   "execution_count": 161,
   "id": "dfa2a068",
   "metadata": {},
   "outputs": [],
   "source": [
    "def iter_step(A, B, v_n, alpha_n1, b):\n",
    "    B=np.linalg.inv(B)\n",
    "    r_n = np.matmul(A, v_n) - b\n",
    "    v_n1=v_n - alpha_n1*np.matmul(B, r_n)\n",
    "    return v_n1"
   ]
  },
  {
   "cell_type": "code",
   "execution_count": 12,
   "id": "21ced6c6",
   "metadata": {},
   "outputs": [],
   "source": [
    "#Вычисляем скорость метода"
   ]
  },
  {
   "cell_type": "code",
   "execution_count": 162,
   "id": "d24952b4",
   "metadata": {},
   "outputs": [],
   "source": [
    "def calc_alpha(A, B, r_n):\n",
    "    B=np.linalg.inv(B)\n",
    "    p=np.matmul(B,r_n)\n",
    "    \n",
    "    numerator=np.dot(r_n, p)\n",
    "    denumerator=np.dot(np.matmul(A, p), p)\n",
    "    \n",
    "    alpha_n1=numerator/denumerator\n",
    "    \n",
    "    return alpha_n1"
   ]
  },
  {
   "cell_type": "code",
   "execution_count": 163,
   "id": "126e66e6",
   "metadata": {},
   "outputs": [],
   "source": [
    "def d(A, y,f):\n",
    "    \n",
    "    prod = np.matmul(A, y)\n",
    "    d = np.max(np.abs(prod- f))\n",
    "    \n",
    "    return d"
   ]
  },
  {
   "cell_type": "code",
   "execution_count": 13,
   "id": "3289edd3",
   "metadata": {},
   "outputs": [],
   "source": [
    "def find_solution(n_iter):\n",
    "    j=1\n",
    "    mesh=build_mesh(u=1)\n",
    "    B=laplas_B(n=N1, h=h1)\n",
    "    A=matrix_A(n_points, mesh_x, mesh_y)\n",
    "    u_prev=np.zeros((N1**2,))\n",
    "    u_new=u_prev\n",
    "    f=F(u=1)\n",
    "    S=U(u=1)\n",
    "    alpha=1/3\n",
    "    eps=1e-5\n",
    "    counter=0\n",
    "    r_n = np.matmul(A, u_new) - f\n",
    "    while np.max(np.abs(r_n))>eps:\n",
    "        u_prev=u_new\n",
    "        u_new = iter_step(A, B, u_prev, alpha, f)\n",
    "        \n",
    "        \n",
    "        r_n = np.matmul(A, u_new) - f\n",
    "        alpha = calc_alpha(A, B, r_n)\n",
    "        j+=1\n",
    "        print(np.max(np.abs(r_n)))\n",
    "        counter+=1\n",
    "    return counter\n",
    "        \n",
    "        "
   ]
  },
  {
   "cell_type": "code",
   "execution_count": 14,
   "id": "bbe926c8",
   "metadata": {},
   "outputs": [],
   "source": [
    "##Запускаем итерационный метод с выводом нормы невязки"
   ]
  },
  {
   "cell_type": "code",
   "execution_count": 166,
   "id": "2f5a876c",
   "metadata": {
    "scrolled": true
   },
   "outputs": [
    {
     "name": "stdout",
     "output_type": "stream",
     "text": [
      "0.8973481172555589\n",
      "0.17540243142092082\n",
      "0.05888686536543619\n",
      "0.013525493158821233\n",
      "0.0047190296281863775\n",
      "0.0011138962071615133\n",
      "0.0003837554818919564\n",
      "8.517986800216093e-05\n",
      "2.8267406118498428e-05\n",
      "6.1353444347211905e-06\n"
     ]
    },
    {
     "data": {
      "text/plain": [
       "10"
      ]
     },
     "execution_count": 166,
     "metadata": {},
     "output_type": "execute_result"
    }
   ],
   "source": [
    "find_solution(1)"
   ]
  }
 ],
 "metadata": {
  "kernelspec": {
   "display_name": "Python 3 (ipykernel)",
   "language": "python",
   "name": "python3"
  },
  "language_info": {
   "codemirror_mode": {
    "name": "ipython",
    "version": 3
   },
   "file_extension": ".py",
   "mimetype": "text/x-python",
   "name": "python",
   "nbconvert_exporter": "python",
   "pygments_lexer": "ipython3",
   "version": "3.8.10"
  }
 },
 "nbformat": 4,
 "nbformat_minor": 5
}
